{
 "cells": [
  {
   "cell_type": "markdown",
   "metadata": {},
   "source": [
    "## practical 9"
   ]
  },
  {
   "cell_type": "code",
   "execution_count": 2,
   "metadata": {},
   "outputs": [
    {
     "name": "stderr",
     "output_type": "stream",
     "text": [
      "[nltk_data] Downloading package vader_lexicon to\n",
      "[nltk_data]     C:\\Users\\rc880\\AppData\\Roaming\\nltk_data...\n"
     ]
    },
    {
     "name": "stdout",
     "output_type": "stream",
     "text": [
      "Text: I love this product! It's absolutely amazing and worth every penny.\n",
      "Text: This is the worst experience I've ever had. I will never come back.\n",
      "Text: The movie was okay, not great but not terrible either.\n",
      "Text: I am very happy with the service provided, totally satisfied.\n",
      "Text: I'm disappointed. The quality is not what I expected.\n",
      "Text: The book is interesting, but it has some dull moments.\n",
      "Text: The support team is helpful and resolved my issue quickly.\n",
      "Sentiment Scores: {'neg': 0.0, 'neu': 0.493, 'pos': 0.507, 'compound': 0.7351}\n",
      "Overall Sentiment: Positive\n",
      "\n"
     ]
    }
   ],
   "source": [
    "# Import necessary libraries\n",
    "import nltk\n",
    "from nltk.sentiment import SentimentIntensityAnalyzer\n",
    "# Download necessary NLTK resources\n",
    "nltk.download('vader_lexicon')\n",
    "# Initialize the SentimentIntensityAnalyzer\n",
    "sia = SentimentIntensityAnalyzer()\n",
    "# Example texts for sentiment analysis\n",
    "texts = [\n",
    "\"I love this product! It's absolutely amazing and worth every penny.\",\n",
    "\"This is the worst experience I've ever had. I will never come back.\",\n",
    "\"The movie was okay, not great but not terrible either.\",\n",
    "\"I am very happy with the service provided, totally satisfied.\",\n",
    "\"I'm disappointed. The quality is not what I expected.\",\n",
    "\"The book is interesting, but it has some dull moments.\",\n",
    "\"The support team is helpful and resolved my issue quickly.\"\n",
    "]\n",
    "\n",
    "# Function to analyze sentiment\n",
    "def analyze_sentiment(text):\n",
    "    sentiment = sia.polarity_scores(text)\n",
    "    overall_sentiment = 'Positive' if sentiment['compound'] > 0 else 'Negative' if sentiment['compound'] < 0 else 'Neutral'\n",
    "    return sentiment, overall_sentiment\n",
    "\n",
    "# Perform sentiment analysis on each text\n",
    "\n",
    "for text in texts:\n",
    "    print(f\"Text: {text}\")\n",
    "sentiment_scores, overall_sentiment = analyze_sentiment(text)\n",
    "print(f\"Sentiment Scores: {sentiment_scores}\")\n",
    "print(f\"Overall Sentiment: {overall_sentiment}\\n\")"
   ]
  }
 ],
 "metadata": {
  "kernelspec": {
   "display_name": "Python 3",
   "language": "python",
   "name": "python3"
  },
  "language_info": {
   "codemirror_mode": {
    "name": "ipython",
    "version": 3
   },
   "file_extension": ".py",
   "mimetype": "text/x-python",
   "name": "python",
   "nbconvert_exporter": "python",
   "pygments_lexer": "ipython3",
   "version": "3.12.1"
  }
 },
 "nbformat": 4,
 "nbformat_minor": 2
}
