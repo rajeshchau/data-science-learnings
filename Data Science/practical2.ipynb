{
 "cells": [
  {
   "cell_type": "markdown",
   "metadata": {},
   "source": [
    "## practical 2"
   ]
  },
  {
   "cell_type": "code",
   "execution_count": 1,
   "metadata": {},
   "outputs": [
    {
     "name": "stdout",
     "output_type": "stream",
     "text": [
      "Number of duplicate records based on customerID: 0\n"
     ]
    }
   ],
   "source": [
    "import pandas as pd\n",
    "# Load the dataset\n",
    "churn = pd.read_csv('Churn_DataDescription.csv')\n",
    "# Find duplicate records based on CustomerID column\n",
    "duplicate_records = churn.duplicated(subset=['customerID']).sum()\n",
    "print(f\"Number of duplicate records based on customerID: {duplicate_records}\")\n"
   ]
  },
  {
   "cell_type": "code",
   "execution_count": 2,
   "metadata": {},
   "outputs": [
    {
     "name": "stdout",
     "output_type": "stream",
     "text": [
      "Total number of missing values for TotalCharges: 0\n"
     ]
    }
   ],
   "source": [
    "# Find total number of missing values for TotalCharges\n",
    "missing_total_charges = churn['TotalCharges'].isnull().sum()\n",
    "print(f\"Total number of missing values for TotalCharges: {missing_total_charges}\")\n"
   ]
  },
  {
   "cell_type": "code",
   "execution_count": 4,
   "metadata": {},
   "outputs": [
    {
     "name": "stdout",
     "output_type": "stream",
     "text": [
      "Average monthly charge paid by a customer: 64.76169246059918\n"
     ]
    }
   ],
   "source": [
    "\n",
    "# Calculate average monthly charge\n",
    "average_monthly_charge = churn['MonthlyCharges'].mean()\n",
    "print(f\"Average monthly charge paid by a customer: {average_monthly_charge}\")\n"
   ]
  },
  {
   "cell_type": "code",
   "execution_count": 5,
   "metadata": {},
   "outputs": [
    {
     "name": "stdout",
     "output_type": "stream",
     "text": [
      "Number of records in Dependents column with '1@#': 0\n"
     ]
    }
   ],
   "source": [
    "dependents_count = (churn ['Dependents'] == '1@#').sum()\n",
    "print(f\"Number of records in Dependents column with '1@#': {dependents_count}\")\n"
   ]
  },
  {
   "cell_type": "code",
   "execution_count": 6,
   "metadata": {},
   "outputs": [
    {
     "name": "stdout",
     "output_type": "stream",
     "text": [
      "Data type of the variable 'tenure': int64\n"
     ]
    }
   ],
   "source": [
    "# Check the data type of the variable 'tenure'\n",
    "tenure_dtype = churn['tenure'].dtype\n",
    "print(f\"Data type of the variable 'tenure': {tenure_dtype}\")\n",
    "\n",
    "\n"
   ]
  }
 ],
 "metadata": {
  "kernelspec": {
   "display_name": "Python 3",
   "language": "python",
   "name": "python3"
  },
  "language_info": {
   "codemirror_mode": {
    "name": "ipython",
    "version": 3
   },
   "file_extension": ".py",
   "mimetype": "text/x-python",
   "name": "python",
   "nbconvert_exporter": "python",
   "pygments_lexer": "ipython3",
   "version": "3.12.1"
  }
 },
 "nbformat": 4,
 "nbformat_minor": 2
}
